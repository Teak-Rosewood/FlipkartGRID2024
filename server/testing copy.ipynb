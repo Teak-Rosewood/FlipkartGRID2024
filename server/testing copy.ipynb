{
 "cells": [
  {
   "cell_type": "code",
   "execution_count": 1,
   "metadata": {},
   "outputs": [
    {
     "data": {
      "text/plain": [
       "True"
      ]
     },
     "execution_count": 1,
     "metadata": {},
     "output_type": "execute_result"
    }
   ],
   "source": [
    "from langchain_mistralai import ChatMistralAI\n",
    "from dotenv import load_dotenv\n",
    "import os\n",
    "\n",
    "load_dotenv()"
   ]
  },
  {
   "cell_type": "code",
   "execution_count": 2,
   "metadata": {},
   "outputs": [
    {
     "name": "stdout",
     "output_type": "stream",
     "text": [
      "Error: The file images/00bae482-9da5-47ca-8043-ec82cc499400_1.jpg was not found.\n"
     ]
    },
    {
     "data": {
      "text/plain": [
       "'Error encoding image'"
      ]
     },
     "execution_count": 2,
     "metadata": {},
     "output_type": "execute_result"
    }
   ],
   "source": [
    "from utils.gpt import get_estimated_shelf_life, get_pixtral_response\n",
    "\n",
    "# value = get_estimated_shelf_life(\"tomato\", 0.576578645346)\n",
    "\n",
    "get_pixtral_response(\"images/00bae482-9da5-47ca-8043-ec82cc499400_1.jpg\", text=\"kissan branded\")"
   ]
  },
  {
   "cell_type": "code",
   "execution_count": 3,
   "metadata": {},
   "outputs": [
    {
     "name": "stderr",
     "output_type": "stream",
     "text": [
      "/home/blank/miniconda3/envs/grid/lib/python3.10/site-packages/tqdm/auto.py:21: TqdmWarning: IProgress not found. Please update jupyter and ipywidgets. See https://ipywidgets.readthedocs.io/en/stable/user_install.html\n",
      "  from .autonotebook import tqdm as notebook_tqdm\n"
     ]
    },
    {
     "name": "stdout",
     "output_type": "stream",
     "text": [
      "Loaded as API: https://aanshbasu-grounding-dino-gradio.hf.space ✔\n",
      "Loaded as API: https://aanshbasu-ocr-detect.hf.space ✔\n",
      "Loaded as API: https://aanshbasu-freshness-detect.hf.space ✔\n"
     ]
    }
   ],
   "source": [
    "from utils.gradio_clients import perform_ocr\n",
    "import time"
   ]
  },
  {
   "cell_type": "code",
   "execution_count": 4,
   "metadata": {},
   "outputs": [
    {
     "name": "stdout",
     "output_type": "stream",
     "text": [
      "Time taken for OCR:  19.374733209609985\n"
     ]
    },
    {
     "data": {
      "text/plain": [
       "'{\"text\": [\"47457\", \"MIVEA\", \"#insm e\", \"LOTIOM\"]}'"
      ]
     },
     "execution_count": 4,
     "metadata": {},
     "output_type": "execute_result"
    }
   ],
   "source": [
    "perform_ocr(\"images/b5ed7f89-fd81-4cff-a384-c07edcef47c7_1.jpg\")"
   ]
  },
  {
   "cell_type": "code",
   "execution_count": null,
   "metadata": {},
   "outputs": [],
   "source": []
  }
 ],
 "metadata": {
  "kernelspec": {
   "display_name": "grid",
   "language": "python",
   "name": "python3"
  },
  "language_info": {
   "codemirror_mode": {
    "name": "ipython",
    "version": 3
   },
   "file_extension": ".py",
   "mimetype": "text/x-python",
   "name": "python",
   "nbconvert_exporter": "python",
   "pygments_lexer": "ipython3",
   "version": "3.10.14"
  }
 },
 "nbformat": 4,
 "nbformat_minor": 2
}
