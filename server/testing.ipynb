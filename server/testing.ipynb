{
 "cells": [
  {
   "cell_type": "code",
   "execution_count": 1,
   "metadata": {},
   "outputs": [],
   "source": [
    "from langchain_mistralai import ChatMistralAI\n",
    "import getpass\n",
    "from dotenv import load_dotenv\n",
    "import os\n",
    "from langchain_core.prompts import PromptTemplate\n",
    "import json"
   ]
  },
  {
   "cell_type": "code",
   "execution_count": 2,
   "metadata": {},
   "outputs": [
    {
     "data": {
      "text/plain": [
       "'Je4CrSyBi0EpoJxb0ZGIG7dQhQSWoGSz'"
      ]
     },
     "execution_count": 2,
     "metadata": {},
     "output_type": "execute_result"
    }
   ],
   "source": [
    "load_dotenv()\n",
    "os.getenv('MISTRAL_API_KEY')"
   ]
  },
  {
   "cell_type": "code",
   "execution_count": 3,
   "metadata": {},
   "outputs": [],
   "source": [
    "model = ChatMistralAI(model=\"open-mistral-nemo\")"
   ]
  },
  {
   "cell_type": "code",
   "execution_count": 4,
   "metadata": {},
   "outputs": [],
   "source": [
    "template = \"\"\"\n",
    "Given the OCR-extracted information below, return a JSON object where:\n",
    "\n",
    "1. If the `productname`, `price`, `mfg_date` or `net_weight` is not present, set it to `\"NA\"`.\n",
    "2. If `shelf_life` is not provided, set it to `\"NA\"`.\n",
    "3. If `price` or `shelf_life` are `\"NA\"`, predict them from the text or trustable sources and add them to `estimates`.\n",
    "4. Ensure that `price` is a number (float), `mfg_date` is a date and `shelf_life` is an integer in days.\n",
    "5. Include all additional details under the `metadata` field.\n",
    "6. Note that all these products are sold in India.\n",
    "\n",
    "OCR Extract:\n",
    "{text}\n",
    "\n",
    "Expected JSON format:\n",
    "{{\n",
    "  \"productname\": \"[Extracted or 'NA']\",\n",
    "  \"price\": \"[Extracted or 'NA']\",\n",
    "  \"net_weight\": \"[Extracted or 'NA']\",\n",
    "  \"shelf_life\": \"[Extracted or 'NA']\",\n",
    "  \"mfg_date\": \"[Extracted or 'NA']\",\n",
    "  \"estimates\" : {{\n",
    "    price: \"[if price is NA provide an estimated price in numbers]\"\n",
    "    shelf_life: \"[if shelf_life is NA provide an estimated price in days]\"\n",
    "  }}\n",
    "  \"metadata\": {{\n",
    "    intuitively find parameters for all other information and put them in here with their specific key words\n",
    "  }}\n",
    "}}\n",
    "\n",
    "Return only the JSON object, without any additional text or explanation.\n",
    "\"\"\"\n",
    "\n",
    "prompt = PromptTemplate.from_template(template)\n",
    "chain = prompt | model\n"
   ]
  },
  {
   "cell_type": "code",
   "execution_count": 5,
   "metadata": {},
   "outputs": [],
   "source": [
    "input_text = \"\"\"\n",
    "ark soy sauce\n",
    "really tasty fried rice\n",
    "marinade it adds a punch to remember\n",
    "WheatAcidity Regulator (INS 260)Preservative INS 202\n",
    "allergy advice contains wheat soy\n",
    "may contain nuts sesame seeds mustard milk\n",
    "keep refrigerated after opening\n",
    "for sain india nepal bhutan bangladesh only\n",
    "store in a cool dry and hygienic place\n",
    "bath no\n",
    "recipes at wow ching secret com\n",
    "or\n",
    "P130408509\n",
    "in of all taxes\n",
    "25(R5.0.289\n",
    "09/05.24(01:47)\n",
    "a of mfg\n",
    "usury\n",
    "0805125\n",
    "villas\n",
    "also ghana compound or oshawa a bridge\n",
    "Lic.No.10013022001865\n",
    "fora\n",
    "plaint contact manager consumer\n",
    "Manutactured byFFortune Foods td.Gut No 256/2\n",
    "net were\n",
    "Village Awankhed,Tal-Dindori,Nasik-422202\n",
    "90g\n",
    "Lic.No.10013022001948\n",
    "plan foods div of kaye food industries pvt ltd\n",
    "Lic.No.10012064000055\n",
    "890159\n",
    "Lic.No.10018062000413\n",
    "things secretive\n",
    "of capital\n",
    "818\n",
    "1102155\n",
    "trademark\n",
    "india\"\"\""
   ]
  },
  {
   "cell_type": "code",
   "execution_count": 6,
   "metadata": {},
   "outputs": [
    {
     "name": "stdout",
     "output_type": "stream",
     "text": [
      "{\n",
      "  \"productname\": \"ark soy sauce\",\n",
      "  \"price\": \"NA\",\n",
      "  \"net_weight\": \"90g\",\n",
      "  \"shelf_life\": \"NA\",\n",
      "  \"mfg_date\": \"08/05/24\",\n",
      "  \"estimates\": {\n",
      "    \"price\": 50.0,\n",
      "    \"shelf_life\": 30\n",
      "  },\n",
      "  \"metadata\": {\n",
      "    \"allergy_advice\": \"contains wheat, soy, may contain nuts, sesame seeds, mustard, milk\",\n",
      "    \"storage_instructions\": \"keep refrigerated after opening, store in a cool dry and hygienic place\",\n",
      "    \"manufacturer\": \"Fortune Foods Ltd.\",\n",
      "    \"address\": \"Village Awankhed, Tal-Dindori, Nasik-422202\",\n",
      "    \"licenses\": [\"Lic.No.10013022001865\", \"Lic.No.10013022001948\", \"Lic.No.10012064000055\", \"Lic.No.10018062000413\"],\n",
      "    \"country_of_origin\": \"India\"\n",
      "  }\n",
      "}\n"
     ]
    }
   ],
   "source": [
    "response = chain.invoke({\"text\": input_text})\n",
    "print(response.content)"
   ]
  },
  {
   "cell_type": "code",
   "execution_count": 9,
   "metadata": {},
   "outputs": [
    {
     "name": "stdout",
     "output_type": "stream",
     "text": [
      "JSON object saved to output.json\n"
     ]
    }
   ],
   "source": [
    "response_content = response.content.strip()\n",
    "try:\n",
    "    json_obj = json.loads(response_content)\n",
    "except json.JSONDecodeError as e:\n",
    "    print(f\"Error decoding JSON: {e}\")\n",
    "    exit(1)\n",
    "\n",
    "# Define the file path where you want to save the JSON object\n",
    "file_path = 'output.json'\n",
    "\n",
    "# Save the JSON object to a file\n",
    "with open(file_path, 'w') as json_file:\n",
    "    json.dump(json_obj, json_file, indent=4)\n",
    "\n",
    "# Print a confirmation message\n",
    "print(f\"JSON object saved to {file_path}\")"
   ]
  }
 ],
 "metadata": {
  "kernelspec": {
   "display_name": "grid",
   "language": "python",
   "name": "python3"
  },
  "language_info": {
   "codemirror_mode": {
    "name": "ipython",
    "version": 3
   },
   "file_extension": ".py",
   "mimetype": "text/x-python",
   "name": "python",
   "nbconvert_exporter": "python",
   "pygments_lexer": "ipython3",
   "version": "3.10.14"
  }
 },
 "nbformat": 4,
 "nbformat_minor": 2
}
