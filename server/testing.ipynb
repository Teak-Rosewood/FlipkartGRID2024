{
 "cells": [
  {
   "cell_type": "code",
   "execution_count": null,
   "metadata": {},
   "outputs": [],
   "source": [
    "from langchain_mistralai import ChatMistralAI\n",
    "import getpass\n",
    "from dotenv import load_dotenv\n",
    "import os\n",
    "from langchain_core.prompts import PromptTemplate\n",
    "import json\n",
    "\n",
    "load_dotenv()"
   ]
  },
  {
   "cell_type": "code",
   "execution_count": 10,
   "metadata": {},
   "outputs": [],
   "source": [
    "input_text = \"\"\"\n",
    "ark soy sauce\n",
    "really tasty fried rice\n",
    "marinade it adds a punch to remember\n",
    "WheatAcidity Regulator (INS 260)Preservative INS 202\n",
    "allergy advice contains wheat soy\n",
    "may contain nuts sesame seeds mustard milk\n",
    "keep refrigerated after opening\n",
    "for sain india nepal bhutan bangladesh only\n",
    "store in a cool dry and hygienic place\n",
    "bath no\n",
    "recipes at wow ching secret com\n",
    "or\n",
    "P130408509\n",
    "in of all taxes\n",
    "25(R5.0.289\n",
    "09/05.24(01:47)\n",
    "a of mfg\n",
    "usury\n",
    "0805125\n",
    "villas\n",
    "also ghana compound or oshawa a bridge\n",
    "Lic.No.10013022001865\n",
    "fora\n",
    "plaint contact manager consumer\n",
    "Manutactured byFFortune Foods td.Gut No 256/2\n",
    "net were\n",
    "Village Awankhed,Tal-Dindori,Nasik-422202\n",
    "90g\n",
    "Lic.No.10013022001948\n",
    "plan foods div of kaye food industries pvt ltd\n",
    "Lic.No.10012064000055\n",
    "890159\n",
    "Lic.No.10018062000413\n",
    "things secretive\n",
    "of capital\n",
    "818\n",
    "1102155\n",
    "trademark\n",
    "india\"\"\""
   ]
  },
  {
   "cell_type": "code",
   "execution_count": null,
   "metadata": {},
   "outputs": [],
   "source": [
    "from gpt.product_chain import get_gpt_formatted_text\n",
    "\n",
    "get_gpt_formatted_text(input_text)"
   ]
  },
  {
   "cell_type": "code",
   "execution_count": null,
   "metadata": {},
   "outputs": [],
   "source": [
    "from sqlalchemy import inspect, create_engine\n",
    "import os\n",
    "from dotenv import load_dotenv\n",
    "\n",
    "from db.models import Base\n",
    "\n",
    "load_dotenv()\n",
    "POSTGRES_URL = os.getenv(\"POSTGRESQL_DB_URL\")\n",
    "print(POSTGRES_URL)\n",
    "engine = create_engine(POSTGRES_URL)\n",
    "\n",
    "# Base.metadata.create_all(bind=engine)\n",
    "\n",
    "inspector = inspect(engine)\n",
    "print(inspector.get_table_names())"
   ]
  },
  {
   "cell_type": "code",
   "execution_count": null,
   "metadata": {},
   "outputs": [],
   "source": [
    "from db.models import Product\n",
    "from db.database import get_sql_db\n",
    "\n",
    "new_product = Product(name=\"testing product\",\n",
    "                      price = 20.00,\n",
    "                      total_no = 5)\n",
    "session = next(get_sql_db())\n",
    "\n",
    "# session.add(new_product)\n",
    "session.commit()"
   ]
  },
  {
   "cell_type": "code",
   "execution_count": null,
   "metadata": {},
   "outputs": [],
   "source": [
    "products = session.query(Product).all()\n",
    "for product in products:\n",
    "    print(f\"ID: {product.item_id}, Name: {product.name} Price: {product.price}\")"
   ]
  },
  {
   "cell_type": "code",
   "execution_count": 29,
   "metadata": {},
   "outputs": [],
   "source": [
    "import os\n",
    "from qdrant_client import QdrantClient\n",
    "from qdrant_client.http.models import VectorParams, Distance"
   ]
  },
  {
   "cell_type": "code",
   "execution_count": 30,
   "metadata": {},
   "outputs": [],
   "source": [
    "client = QdrantClient(url=os.getenv('VECTOR_DB_URL'))"
   ]
  },
  {
   "cell_type": "code",
   "execution_count": 31,
   "metadata": {},
   "outputs": [
    {
     "name": "stderr",
     "output_type": "stream",
     "text": [
      "/home/blank/miniconda3/envs/grid/lib/python3.10/site-packages/transformers/tokenization_utils_base.py:1601: FutureWarning: `clean_up_tokenization_spaces` was not set. It will be set to `True` by default. This behavior will be depracted in transformers v4.45, and will be then set to `False` by default. For more details check this issue: https://github.com/huggingface/transformers/issues/31884\n",
      "  warnings.warn(\n"
     ]
    }
   ],
   "source": [
    "from langchain_huggingface import HuggingFaceEmbeddings\n",
    "\n",
    "embeddings = HuggingFaceEmbeddings(model_name=\"sentence-transformers/all-MiniLM-L6-v2\",cache_folder=\"./vector/embedding_models\")"
   ]
  },
  {
   "cell_type": "code",
   "execution_count": 32,
   "metadata": {},
   "outputs": [
    {
     "data": {
      "text/plain": [
       "CollectionInfo(status=<CollectionStatus.GREEN: 'green'>, optimizer_status=<OptimizersStatusOneOf.OK: 'ok'>, vectors_count=None, indexed_vectors_count=0, points_count=2, segments_count=8, config=CollectionConfig(params=CollectionParams(vectors=VectorParams(size=384, distance=<Distance.COSINE: 'Cosine'>, hnsw_config=None, quantization_config=None, on_disk=None, datatype=None, multivector_config=None), shard_number=1, sharding_method=None, replication_factor=1, write_consistency_factor=1, read_fan_out_factor=None, on_disk_payload=True, sparse_vectors=None), hnsw_config=HnswConfig(m=16, ef_construct=100, full_scan_threshold=10000, max_indexing_threads=0, on_disk=False, payload_m=None), optimizer_config=OptimizersConfig(deleted_threshold=0.2, vacuum_min_vector_number=1000, default_segment_number=0, max_segment_size=None, memmap_threshold=None, indexing_threshold=20000, flush_interval_sec=5, max_optimization_threads=None), wal_config=WalConfig(wal_capacity_mb=32, wal_segments_ahead=0), quantization_config=None), payload_schema={})"
      ]
     },
     "execution_count": 32,
     "metadata": {},
     "output_type": "execute_result"
    }
   ],
   "source": [
    "client.get_collection(\n",
    "    collection_name=\"products\",\n",
    "    # vectors_config=VectorParams(size=384, distance=Distance.COSINE)\n",
    ")"
   ]
  },
  {
   "cell_type": "code",
   "execution_count": 12,
   "metadata": {},
   "outputs": [],
   "source": [
    "from langchain_core.documents import Document\n",
    "\n",
    "doc_1 = Document(\n",
    "    page_content=\"Hello this is content that is getting put in\",\n",
    "    metadata={\"test_id\" : 1}\n",
    ")\n",
    "doc_2 = Document(\n",
    "    page_content=\"bye this is content that is getting put in\",\n",
    "    metadata={\"test_id\" : 2}\n",
    ")\n",
    "\n",
    "docs = [doc_1, doc_2]"
   ]
  },
  {
   "cell_type": "code",
   "execution_count": 33,
   "metadata": {},
   "outputs": [],
   "source": [
    "from langchain_qdrant import QdrantVectorStore\n",
    "\n",
    "vector_store = QdrantVectorStore(\n",
    "    client=client,\n",
    "    embedding=embeddings,\n",
    "    collection_name=\"products\"\n",
    ")"
   ]
  },
  {
   "cell_type": "code",
   "execution_count": 14,
   "metadata": {},
   "outputs": [
    {
     "data": {
      "text/plain": [
       "['0fa13bcafb1149f6b4cafa7493d972ae', '4e15eebad84e4a0eb9eb165db784b092']"
      ]
     },
     "execution_count": 14,
     "metadata": {},
     "output_type": "execute_result"
    }
   ],
   "source": [
    "vector_store.add_documents(docs)"
   ]
  },
  {
   "cell_type": "code",
   "execution_count": 34,
   "metadata": {},
   "outputs": [
    {
     "name": "stdout",
     "output_type": "stream",
     "text": [
      "page_content='bye this is content that is getting put in' metadata={'test_id': 2, '_id': '4e15eeba-d84e-4a0e-b9eb-165db784b092', '_collection_name': 'products'}\n"
     ]
    }
   ],
   "source": [
    "res = vector_store.similarity_search(\"hi\", k = 1)\n",
    "print(res[0])"
   ]
  },
  {
   "cell_type": "code",
   "execution_count": 35,
   "metadata": {},
   "outputs": [
    {
     "data": {
      "text/plain": [
       "{'test_id': 2,\n",
       " '_id': '4e15eeba-d84e-4a0e-b9eb-165db784b092',\n",
       " '_collection_name': 'products'}"
      ]
     },
     "execution_count": 35,
     "metadata": {},
     "output_type": "execute_result"
    }
   ],
   "source": [
    "res[0].metadata"
   ]
  },
  {
   "cell_type": "code",
   "execution_count": null,
   "metadata": {},
   "outputs": [],
   "source": []
  }
 ],
 "metadata": {
  "kernelspec": {
   "display_name": "grid",
   "language": "python",
   "name": "python3"
  },
  "language_info": {
   "codemirror_mode": {
    "name": "ipython",
    "version": 3
   },
   "file_extension": ".py",
   "mimetype": "text/x-python",
   "name": "python",
   "nbconvert_exporter": "python",
   "pygments_lexer": "ipython3",
   "version": "3.10.14"
  }
 },
 "nbformat": 4,
 "nbformat_minor": 2
}
