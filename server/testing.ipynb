{
 "cells": [
  {
   "cell_type": "code",
   "execution_count": 30,
   "metadata": {},
   "outputs": [],
   "source": [
    "from langchain_mistralai import ChatMistralAI\n",
    "import getpass\n",
    "from dotenv import load_dotenv\n",
    "import os\n",
    "from langchain_core.prompts import PromptTemplate\n",
    "from langchain.prompts import PromptTemplate\n",
    "from langchain.chains import LLMChain\n"
   ]
  },
  {
   "cell_type": "code",
   "execution_count": 9,
   "metadata": {},
   "outputs": [
    {
     "data": {
      "text/plain": [
       "'Je4CrSyBi0EpoJxb0ZGIG7dQhQSWoGSz'"
      ]
     },
     "execution_count": 9,
     "metadata": {},
     "output_type": "execute_result"
    }
   ],
   "source": [
    "load_dotenv()\n",
    "os.getenv('MISTRAL_API_KEY')"
   ]
  },
  {
   "cell_type": "code",
   "execution_count": 31,
   "metadata": {},
   "outputs": [],
   "source": [
    "model = ChatMistralAI(model=\"mistral-large-2407\")"
   ]
  },
  {
   "cell_type": "code",
   "execution_count": 42,
   "metadata": {},
   "outputs": [],
   "source": [
    "template = \"\"\"\n",
    "Given the OCR-extracted information below, return a JSON object where:\n",
    "\n",
    "1. If the `productname`, `price`, or `net_weight` is not present, set it to `\"NA\"`.\n",
    "2. If `shelf_life` is not provided in days, set it to `\"NA\"`, and provide a best guess for the shelf life in days in the parameter `estimated_shelf_life`.\n",
    "3. Include all additional details under the `metadata` field.\n",
    "\n",
    "OCR Extract:\n",
    "{text}\n",
    "\n",
    "Expected JSON format:\n",
    "{{\n",
    "  \"productname\": \"[Extracted or 'NA']\",\n",
    "  \"price\": \"[Extracted or 'NA']\",\n",
    "  \"net_weight\": \"[Extracted or 'NA']\",\n",
    "  \"shelf_life\": \"[Extracted or 'NA']\",\n",
    "  \"estimated_shelf_life\": \"[Estimated shelf life in days or 'NA']\",\n",
    "  \"metadata\": {{\n",
    "    intuitively find parameters for all other information and put them in here with their specific key words\n",
    "  }}\n",
    "}}\n",
    "\"\"\"\n",
    "\n",
    "prompt = PromptTemplate(template=template, input_variables=[\"text\"])\n",
    "chain = LLMChain(llm=model, prompt=prompt)\n"
   ]
  },
  {
   "cell_type": "code",
   "execution_count": 43,
   "metadata": {},
   "outputs": [],
   "source": [
    "input_text = \"\"\"\n",
    "ark soy sauce\n",
    "really tasty fried rice\n",
    "marinade it adds a punch to remember\n",
    "WheatAcidity Regulator (INS 260)Preservative INS 202\n",
    "allergy advice contains wheat soy\n",
    "may contain nuts sesame seeds mustard milk\n",
    "keep refrigerated after opening\n",
    "for sain india nepal bhutan bangladesh only\n",
    "store in a cool dry and hygienic place\n",
    "bath no\n",
    "recipes at wow ching secret com\n",
    "or\n",
    "P130408509\n",
    "in of all taxes\n",
    "25(R5.0.289\n",
    "09/05.24(01:47)\n",
    "a of mfg\n",
    "usury\n",
    "0805125\n",
    "villas\n",
    "also ghana compound or oshawa a bridge\n",
    "Lic.No.10013022001865\n",
    "fora\n",
    "plaint contact manager consumer\n",
    "Manutactured byFFortune Foods td.Gut No 256/2\n",
    "net were\n",
    "Village Awankhed,Tal-Dindori,Nasik-422202\n",
    "90g\n",
    "Lic.No.10013022001948\n",
    "plan foods div of kaye food industries pvt ltd\n",
    "Lic.No.10012064000055\n",
    "890159\n",
    "Lic.No.10018062000413\n",
    "things secretive\n",
    "of capital\n",
    "818\n",
    "1102155\n",
    "trademark\n",
    "india\"\"\"\n",
    "\n",
    "response = chain.run(input_text)\n",
    "print(response)\n"
   ]
  },
  {
   "cell_type": "code",
   "execution_count": 27,
   "metadata": {},
   "outputs": [],
   "source": [
    "from langchain_core.messages import HumanMessage"
   ]
  },
  {
   "cell_type": "code",
   "execution_count": 38,
   "metadata": {},
   "outputs": [
    {
     "name": "stderr",
     "output_type": "stream",
     "text": [
      "Parameter `stop` not yet supported (https://docs.mistral.ai/api)\n"
     ]
    },
    {
     "name": "stdout",
     "output_type": "stream",
     "text": [
      "{'text': '```json\\n{\\n  \"productname\": \"ark soy sauce\",\\n  \"price\": \"NA\",\\n  \"net_weight\": \"90g\",\\n  \"shelf_life\": \"NA\",\\n  \"estimated_shelf_life\": \"NA\",\\n  \"metadata\": {\\n    \"other_information\": \"really tasty fried rice marinade it adds a punch to remember WheatAcidity Regulator (INS 260)Preservative INS 202 allergy advice contains wheat soy may contain nuts sesame seeds mustard milk keep refrigerated after opening for sain india nepal bhutan bangladesh only store in a cool dry and hygienic place bath no recipes at wow ching secret com or P130408509 in of all taxes 25(R5.0.289 09/05.24(01:47) a of mfg usury 0805125 villas also ghana compound or oshawa a bridge Lic.No.10013022001865 fora plaint contact manager consumer Manutactured byFFortune Foods td.Gut No 256/2 Village Awankhed,Tal-Dindori,Nasik-422202 Lic.No.10013022001948 plan foods div of kaye food industries pvt ltd Lic.No.10012064000055 890159 Lic.No.10018062000413 things secretive of capital 818 1102155 trademark india\"\\n  }\\n}\\n```', 'stop': ['\\n']}\n"
     ]
    }
   ],
   "source": [
    "response = chain.invoke({\"text\": imput})\n",
    "print(response)"
   ]
  },
  {
   "cell_type": "code",
   "execution_count": 39,
   "metadata": {},
   "outputs": [
    {
     "name": "stdout",
     "output_type": "stream",
     "text": [
      "{'text': '```json\\n{\\n  \"productname\": \"ark soy sauce\",\\n  \"price\": \"NA\",\\n  \"net_weight\": \"90g\",\\n  \"shelf_life\": \"NA\",\\n  \"estimated_shelf_life\": \"NA\",\\n  \"metadata\": {\\n    \"other_information\": \"really tasty fried rice marinade it adds a punch to remember WheatAcidity Regulator (INS 260)Preservative INS 202 allergy advice contains wheat soy may contain nuts sesame seeds mustard milk keep refrigerated after opening for sain india nepal bhutan bangladesh only store in a cool dry and hygienic place bath no recipes at wow ching secret com or P130408509 in of all taxes 25(R5.0.289 09/05.24(01:47) a of mfg usury 0805125 villas also ghana compound or oshawa a bridge Lic.No.10013022001865 fora plaint contact manager consumer Manutactured byFFortune Foods td.Gut No 256/2 Village Awankhed,Tal-Dindori,Nasik-422202 Lic.No.10013022001948 plan foods div of kaye food industries pvt ltd Lic.No.10012064000055 890159 Lic.No.10018062000413 things secretive of capital 818 1102155 trademark india\"\\n  }\\n}\\n```', 'stop': ['\\n']}\n"
     ]
    }
   ],
   "source": [
    "print(response)"
   ]
  },
  {
   "cell_type": "code",
   "execution_count": 40,
   "metadata": {},
   "outputs": [],
   "source": [
    "import json"
   ]
  },
  {
   "cell_type": "code",
   "execution_count": 41,
   "metadata": {},
   "outputs": [
    {
     "name": "stdout",
     "output_type": "stream",
     "text": [
      "{'productname': 'ark soy sauce', 'price': 'NA', 'net_weight': '90g', 'shelf_life': 'NA', 'estimated_shelf_life': 'NA', 'metadata': {'other_information': 'really tasty fried rice marinade it adds a punch to remember WheatAcidity Regulator (INS 260)Preservative INS 202 allergy advice contains wheat soy may contain nuts sesame seeds mustard milk keep refrigerated after opening for sain india nepal bhutan bangladesh only store in a cool dry and hygienic place bath no recipes at wow ching secret com or P130408509 in of all taxes 25(R5.0.289 09/05.24(01:47) a of mfg usury 0805125 villas also ghana compound or oshawa a bridge Lic.No.10013022001865 fora plaint contact manager consumer Manutactured byFFortune Foods td.Gut No 256/2 Village Awankhed,Tal-Dindori,Nasik-422202 Lic.No.10013022001948 plan foods div of kaye food industries pvt ltd Lic.No.10012064000055 890159 Lic.No.10018062000413 things secretive of capital 818 1102155 trademark india'}}\n"
     ]
    }
   ],
   "source": [
    "json_str = response['text'].split('```json\\n')[1].split('\\n```')[0]\n",
    "json_obj = json.loads(json_str)\n",
    "\n",
    "# Print the JSON object\n",
    "print(json_obj)"
   ]
  },
  {
   "cell_type": "code",
   "execution_count": null,
   "metadata": {},
   "outputs": [],
   "source": []
  }
 ],
 "metadata": {
  "kernelspec": {
   "display_name": "grid",
   "language": "python",
   "name": "python3"
  },
  "language_info": {
   "codemirror_mode": {
    "name": "ipython",
    "version": 3
   },
   "file_extension": ".py",
   "mimetype": "text/x-python",
   "name": "python",
   "nbconvert_exporter": "python",
   "pygments_lexer": "ipython3",
   "version": "3.10.14"
  }
 },
 "nbformat": 4,
 "nbformat_minor": 2
}
